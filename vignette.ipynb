{
 "cells": [
  {
   "cell_type": "markdown",
   "metadata": {},
   "source": [
    "# Earnings Analyzer: A Walkthrough"
   ]
  },
  {
   "cell_type": "markdown",
   "metadata": {},
   "source": [
    "This notebook provides a simple, step-by-step guide to using the `earnings_analyzer` package. We will walk through the core features, from analyzing a new earnings call to retrieving data from the database."
   ]
  },
  {
   "cell_type": "markdown",
   "id": "bd357829",
   "metadata": {},
   "source": [
    "## Troubleshooting API Key Issues\n",
    "\n",
    "If you encounter errors while running the analysis, here are common solutions:"
   ]
  },
  {
   "cell_type": "code",
   "execution_count": null,
   "id": "f917f25c",
   "metadata": {},
   "outputs": [],
   "source": [
    "# If you see \"GEMINI_API_KEY not found\" or \"FMP_API_KEY not found:\",\n",
    "from earnings_analyzer.config import set_gemini_api_key, set_fmp_api_key\n",
    "\n",
    "# Set your keys programmatically (good for notebooks)\n",
    "# set_gemini_api_key(\"your_actual_gemini_api_key_here\")\n",
    "# set_fmp_api_key(\"your_actual_fmp_api_key_here\")\n",
    "\n",
    "# Verify they're set correctly\n",
    "from earnings_analyzer.config import get_gemini_api_key, get_fmp_api_key\n",
    "print(\"Gemini key set:\", \"Yes\" if get_gemini_api_key() else \"No\")\n",
    "print(\"FMP key set:\", \"Yes\" if get_fmp_api_key() else \"No\")"
   ]
  },
  {
   "cell_type": "markdown",
   "metadata": {},
   "source": [
    "## Two Paths for Analysis: Which Should You Choose?"
   ]
  },
  {
   "cell_type": "markdown",
   "metadata": {},
   "source": [
    "The `earnings-analyzer` package offers two distinct paths for your analysis, each designed for a different use case. Your choice depends on your goal:\n",
    "\n",
    "**Path 1: The `EarningsAnalyzer` Class (High-Level & Database-Backed)**\n",
    "\n",
    "- **What it is:** A convenient, all-in-one tool that handles everything from fetching data to storing it in a local database.\n",
    "- **Best for:** Quickly getting a complete analysis of a company's earnings call, with the benefit of automatic caching. If you analyze the same call again, it will load from your disk, saving time and API calls.\n",
    "- **Use when:** You want a persistent, historical record of your analyses and appreciate the convenience of a single command.\n",
    "\n",
    "**Path 2: Composable Functions (Low-Level & In-Memory)**\n",
    "\n",
    "- **What it is:** A collection of focused, independent functions (`fetch_transcript`, `score_sentiment`, etc.) that perform one specific task and return data directly to you (as a dictionary or list).\n",
    "- **Best for:** Building custom data analysis pipelines, integrating with other tools (like pandas), or when you only need a piece of the analysis (e.g., just the transcript text).\n",
    "- **Use when:** You need flexibility, want to work with data in-memory, and don't need database storage. This is ideal for ad-hoc analysis or integrating into a larger, existing workflow."
   ]
  },
  {
   "cell_type": "markdown",
   "metadata": {},
   "source": [
    "---"
   ]
  },
  {
   "cell_type": "markdown",
   "metadata": {},
   "source": [
    