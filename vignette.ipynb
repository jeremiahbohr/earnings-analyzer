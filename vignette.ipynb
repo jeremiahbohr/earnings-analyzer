{
 "cells": [
  {
   "cell_type": "markdown",
   "metadata": {},
   "source": [
    "# Earnings Analyzer: A Walkthrough"
   ]
  },
  {
   "cell_type": "markdown",
   "metadata": {},
   "source": [
    "This notebook provides a simple, step-by-step guide to using the `earnings_analyzer` package. We will walk through the core features, from analyzing a new earnings call to retrieving data from the database."
   ]
  },
  {
   "cell_type": "markdown",
   "id": "bd357829",
   "metadata": {},
   "source": [
    "## Troubleshooting API Key Issues\n",
    "\n",
    "If you encounter errors while running the analysis, here are common solutions:"
   ]
  },
  {
   "cell_type": "code",
   "execution_count": null,
   "id": "f917f25c",
   "metadata": {},
   "outputs": [],
   "source": [
    "# If you see \"GEMINI_API_KEY not found\" or \"FMP_API_KEY not found\":\n",
    "from earnings_analyzer.config import set_gemini_api_key, set_fmp_api_key\n",
    "\n",
    "# Set your keys programmatically (good for notebooks)\n",
    "set_gemini_api_key(\"your_actual_gemini_api_key_here\")\n",
    "set_fmp_api_key(\"your_actual_fmp_api_key_here\")\n",
    "\n",
    "# Verify they're set correctly\n",
    "from earnings_analyzer.config import get_gemini_api_key, get_fmp_api_key\n",
    "print(\"Gemini key set:\", \"Yes\" if get_gemini_api_key() else \"No\")\n",
    "print(\"FMP key set:\", \"Yes\" if get_fmp_api_key() else \"No\")"
   ]
  },
  {
   "cell_type": "markdown",
   "metadata": {},
   "source": [
    "## 1. Imports and Setup"
   ]
  },
  {
   "cell_type": "code",
   "execution_count": null,
   "id": "362672bd",
   "metadata": {},
   "outputs": [],
   "source": [
    "import pandas as pd\n",
    "from earnings_analyzer.analyzer import EarningsAnalyzer\n",
    "from earnings_analyzer.config import set_gemini_api_key, set_fmp_api_key"
   ]
  },
  {
   "cell_type": "markdown",
   "id": "55e6d3b7",
   "metadata": {},
   "source": [
    "## 2. Set API Keys & Initialize Analyzer"
   ]
  },
  {
   "cell_type": "code",
   "execution_count": 2,
   "id": "d6e78099",
   "metadata": {},
   "outputs": [],
   "source": [
    "# IMPORTANT: Replace with your actual API keys\n",
    "set_gemini_api_key(\"YOUR_GEMINI_API_KEY\")\n",
    "set_fmp_api_key(\"YOUR_FMP_API_KEY\")\n",
    "\n",
    "analyzer = EarningsAnalyzer()"
   ]
  },
  {
   "cell_type": "markdown",
   "id": "f09fcae4",
   "metadata": {},
   "source": [
    "## 3. Analyze a New Earnings Call"
   ]
  },
  {
   "cell_type": "code",
   "execution_count": 3,
   "id": "d2446336",
   "metadata": {},
   "outputs": [
    {
     "name": "stderr",
     "output_type": "stream",
     "text": [
      "INFO: Attempting to find latest transcript for NVDA...\n",
      "INFO: Found existing analysis for NVDA Q4 2025. Returning cached data.\n"
     ]
    },
    {
     "data": {
      "text/html": [
       "<div>\n",
       "<style scoped>\n",
       "    .dataframe tbody tr th:only-of-type {\n",
       "        vertical-align: middle;\n",
       "    }\n",
       "\n",
       "    .dataframe tbody tr th {\n",
       "        vertical-align: top;\n",
       "    }\n",
       "\n",
       "    .dataframe thead th {\n",
       "        text-align: right;\n",
       "    }\n",
       "</style>\n",
       "<table border=\"1\" class=\"dataframe\">\n",
       "  <thead>\n",
       "    <tr style=\"text-align: right;\">\n",
       "      <th></th>\n",
       "      <th>Ticker</th>\n",
       "      <th>Company Name</th>\n",
       "      <th>Sector</th>\n",
       "      <th>Industry</th>\n",
       "      <th>Sentiment Model</th>\n",
       "      <th>Overall Sentiment Score</th>\n",
       "      <th>Sentiment Confidence</th>\n",
       "      <th>Key Themes</th>\n",
       "      <th>Qualitative Assessment</th>\n",
       "      <th>Price at Call</th>\n",
       "      <th>1 Week Performance</th>\n",
       "      <th>1 Month Performance</th>\n",
       "      <th>3 Month Performance</th>\n",
       "      <th>Call Date</th>\n",
       "      <th>Quarter</th>\n",
       "    </tr>\n",
       "  </thead>\n",
       "  <tbody>\n",
       "    <tr>\n",
       "      <th>0</th>\n",
       "      <td>NVDA</td>\n",
       "      <td>NVIDIA Corporation</td>\n",
       "      <td>Technology</td>\n",
       "      <td>None</td>\n",
       "      <td>gemini-2.5-flash</td>\n",
       "      <td>10.0</td>\n",
       "      <td>0.95</td>\n",
       "      <td>Explosive Data Center Growth &amp; Blackwell Ramp,...</td>\n",
       "      <td>The executive sentiment during the earnings ca...</td>\n",
       "      <td>131.28</td>\n",
       "      <td>-0.10649</td>\n",
       "      <td>-0.16461</td>\n",
       "      <td>0.032145</td>\n",
       "      <td>2025-02-26</td>\n",
       "      <td>Q4</td>\n",
       "    </tr>\n",
       "  </tbody>\n",
       "</table>\n",
       "</div>"
      ],
      "text/plain": [
       "  Ticker        Company Name      Sector Industry   Sentiment Model  \\\n",
       "0   NVDA  NVIDIA Corporation  Technology     None  gemini-2.5-flash   \n",
       "\n",
       "   Overall Sentiment Score  Sentiment Confidence  \\\n",
       "0                     10.0                  0.95   \n",
       "\n",
       "                                          Key Themes  \\\n",
       "0  Explosive Data Center Growth & Blackwell Ramp,...   \n",
       "\n",
       "                              Qualitative Assessment  Price at Call  \\\n",
       "0  The executive sentiment during the earnings ca...         131.28   \n",
       "\n",
       "   1 Week Performance  1 Month Performance  3 Month Performance   Call Date  \\\n",
       "0            -0.10649             -0.16461             0.032145  2025-02-26   \n",
       "\n",
       "  Quarter  \n",
       "0      Q4  "
      ]
     },
     "execution_count": 3,
     "metadata": {},
     "output_type": "execute_result"
    }
   ],
   "source": [
    "nvda_df = analyzer.analyze_to_dataframe('NVDA')\n",
    "\n",
    "pd.DataFrame(nvda_df)"
   ]
  },
  {
   "cell_type": "markdown",
   "id": "b6b66f58",
   "metadata": {},
   "source": [
    "### Understanding the Caching Feature\n",
    "The first time you run the analysis for a specific company and quarter, the tool performs a full analysis, including API calls to fetch data and perform sentiment analysis. It then saves this complete record to a local database.\n",
    "\n",
    "If you run the exact same analysis again, the tool will find the saved record and load it directly from your disk. This is faster and reduces your API calls. You will see a message indicating that the cached data is being used."
   ]
  },
  {
   "cell_type": "markdown",
   "id": "3f888f7f",
   "metadata": {},
   "source": [
    "## 4. Retrieve Records from the Database"
   ]
  },
  {
   "cell_type": "markdown",
   "id": "00420e74",
   "metadata": {},
   "source": [
    "You can easily retrieve the records you have saved. The `get_existing_calls()` method allows you to pull all records for a specific ticker, while `get_all_calls()` retrieves every record in the database."
   ]
  },
  {
   "cell_type": "code",
   "execution_count": 4,
   "id": "84147f20",
   "metadata": {},
   "outputs": [
    {
     "data": {
      "text/html": [
       "<div>\n",
       "<style scoped>\n",
       "    .dataframe tbody tr th:only-of-type {\n",
       "        vertical-align: middle;\n",
       "    }\n",
       "\n",
       "    .dataframe tbody tr th {\n",
       "        vertical-align: top;\n",
       "    }\n",
       "\n",
       "    .dataframe thead th {\n",
       "        text-align: right;\n",
       "    }\n",
       "</style>\n",
       "<table border=\"1\" class=\"dataframe\">\n",
       "  <thead>\n",
       "    <tr style=\"text-align: right;\">\n",
       "      <th></th>\n",
       "      <th>ticker</th>\n",
       "      <th>call_date</th>\n",
       "      <th>quarter</th>\n",
       "      <th>year</th>\n",
       "      <th>filing_url</th>\n",
       "      <th>overall_sentiment_score</th>\n",
       "      <th>confidence_level</th>\n",
       "      <th>model_name</th>\n",
       "      <th>qualitative_assessment</th>\n",
       "      <th>key_themes</th>\n",
       "    </tr>\n",
       "  </thead>\n",
       "  <tbody>\n",
       "    <tr>\n",
       "      <th>0</th>\n",
       "      <td>NVDA</td>\n",
       "      <td>2025-02-26</td>\n",
       "      <td>Q4</td>\n",
       "      <td>2025</td>\n",
       "      <td>https://www.fool.com/earnings/call-transcripts...</td>\n",
       "      <td>10.0</td>\n",
       "      <td>0.95</td>\n",
       "      <td>gemini-2.5-flash</td>\n",
       "      <td>The executive sentiment during the earnings ca...</td>\n",
       "      <td>[Explosive Data Center Growth &amp; Blackwell Ramp...</td>\n",
       "    </tr>\n",
       "  </tbody>\n",
       "</table>\n",
       "</div>"
      ],
      "text/plain": [
       "  ticker   call_date quarter  year  \\\n",
       "0   NVDA  2025-02-26      Q4  2025   \n",
       "\n",
       "                                          filing_url  overall_sentiment_score  \\\n",
       "0  https://www.fool.com/earnings/call-transcripts...                     10.0   \n",
       "\n",
       "   confidence_level        model_name  \\\n",
       "0              0.95  gemini-2.5-flash   \n",
       "\n",
       "                              qualitative_assessment  \\\n",
       "0  The executive sentiment during the earnings ca...   \n",
       "\n",
       "                                          key_themes  \n",
       "0  [Explosive Data Center Growth & Blackwell Ramp...  "
      ]
     },
     "execution_count": 4,
     "metadata": {},
     "output_type": "execute_result"
    }
   ],
   "source": [
    "# Get all records for a specific ticker\n",
    "nvda_records = analyzer.get_existing_calls('NVDA')\n",
    "\n",
    "pd.DataFrame(nvda_records)"
   ]
  },
  {
   "cell_type": "code",
   "execution_count": 5,
   "id": "32f22fd2",
   "metadata": {},
   "outputs": [
    {
     "data": {
      "text/html": [
       "<div>\n",
       "<style scoped>\n",
       "    .dataframe tbody tr th:only-of-type {\n",
       "        vertical-align: middle;\n",
       "    }\n",
       "\n",
       "    .dataframe tbody tr th {\n",
       "        vertical-align: top;\n",
       "    }\n",
       "\n",
       "    .dataframe thead th {\n",
       "        text-align: right;\n",
       "    }\n",
       "</style>\n",
       "<table border=\"1\" class=\"dataframe\">\n",
       "  <thead>\n",
       "    <tr style=\"text-align: right;\">\n",
       "      <th></th>\n",
       "      <th>ticker</th>\n",
       "      <th>call_date</th>\n",
       "      <th>quarter</th>\n",
       "      <th>year</th>\n",
       "      <th>filing_url</th>\n",
       "      <th>overall_sentiment_score</th>\n",
       "      <th>confidence_level</th>\n",
       "      <th>model_name</th>\n",
       "      <th>qualitative_assessment</th>\n",
       "      <th>key_themes</th>\n",
       "    </tr>\n",
       "  </thead>\n",
       "  <tbody>\n",
       "    <tr>\n",
       "      <th>0</th>\n",
       "      <td>NVDA</td>\n",
       "      <td>2025-02-26</td>\n",
       "      <td>Q4</td>\n",
       "      <td>2025</td>\n",
       "      <td>https://www.fool.com/earnings/call-transcripts...</td>\n",
       "      <td>10.0</td>\n",
       "      <td>0.95</td>\n",
       "      <td>gemini-2.5-flash</td>\n",
       "      <td>The executive sentiment during the earnings ca...</td>\n",
       "      <td>[Explosive Data Center Growth &amp; Blackwell Ramp...</td>\n",
       "    </tr>\n",
       "    <tr>\n",
       "      <th>1</th>\n",
       "      <td>AAPL</td>\n",
       "      <td>2023-10-01</td>\n",
       "      <td>Q4</td>\n",
       "      <td>2023</td>\n",
       "      <td>https://www.fool.com/earnings/call-transcripts...</td>\n",
       "      <td>10.0</td>\n",
       "      <td>0.95</td>\n",
       "      <td>gemini-2.5-flash</td>\n",
       "      <td>The executive sentiment during the earnings ca...</td>\n",
       "      <td>[Exceptional Software Platform Performance &amp; A...</td>\n",
       "    </tr>\n",
       "  </tbody>\n",
       "</table>\n",
       "</div>"
      ],
      "text/plain": [
       "  ticker   call_date quarter  year  \\\n",
       "0   NVDA  2025-02-26      Q4  2025   \n",
       "1   AAPL  2023-10-01      Q4  2023   \n",
       "\n",
       "                                          filing_url  overall_sentiment_score  \\\n",
       "0  https://www.fool.com/earnings/call-transcripts...                     10.0   \n",
       "1  https://www.fool.com/earnings/call-transcripts...                     10.0   \n",
       "\n",
       "   confidence_level        model_name  \\\n",
       "0              0.95  gemini-2.5-flash   \n",
       "1              0.95  gemini-2.5-flash   \n",
       "\n",
       "                              qualitative_assessment  \\\n",
       "0  The executive sentiment during the earnings ca...   \n",
       "1  The executive sentiment during the earnings ca...   \n",
       "\n",
       "                                          key_themes  \n",
       "0  [Explosive Data Center Growth & Blackwell Ramp...  \n",
       "1  [Exceptional Software Platform Performance & A...  "
      ]
     },
     "execution_count": 5,
     "metadata": {},
     "output_type": "execute_result"
    }
   ],
   "source": [
    "\n",
    "# Get all records from the database\n",
    "all_calls = analyzer.get_all_calls()\n",
    "\n",
    "pd.DataFrame(all_calls)"
   ]
  },
  {
   "cell_type": "markdown",
   "id": "ec4997b9",
   "metadata": {},
   "source": [
    "## 5. Understanding the AI-Powered Metrics"
   ]
  },
  {
   "cell_type": "markdown",
   "id": "cd319d84",
   "metadata": {},
   "source": [
    "The `earnings_analyzer` uses the Gemini API to provide three key metrics that offer a quick assessment of an earnings call. Here’s a transparent look at what they are and how they are generated."
   ]
  },
  {
   "cell_type": "markdown",
   "id": "94485473",
   "metadata": {},
   "source": [
    "### Overall Sentiment Score, Confidence Level, Key Themes, and Qualitative Assessment\n",
    "These metrics are now generated in a single, efficient API call. The tool sends the entire transcript to the Gemini API and requests a comprehensive analysis in a single JSON object. This ensures that the qualitative assessment is a direct analysis of the transcript, providing a more accurate and insightful summary.\n",
    "**Prompt Used:**\n",
    "```\n",
    "As a financial analyst, please analyze the following earnings call transcript.\n",
    "Based on the language, tone, and key topics discussed by the executives, provide a sentiment analysis.\n",
    "Return your analysis as a JSON object with the following four fields:\n",
    "1.  `overall_sentiment_score`: A numerical score from 1 (very negative) to 10 (very positive).\n",
    "2.  `confidence_level`: Your confidence in this sentiment score, from 0.0 to 1.0.\n",
    "3.  `key_themes`: A JSON list of the top 3-5 most important themes or topics discussed.\n",
    "4.  `qualitative_assessment`: A 2-3 sentence qualitative assessment of the executive sentiment during the earnings call, focusing on the overall tone and the implications of the key themes.\n",
    "\n",
    "Transcript:\n",
    "---\n",
    "{transcript_text} # Use the full transcript\n",
    "---\n",
    "```"
   ]
  }
 ],
 "metadata": {
  "kernelspec": {
   "display_name": ".venv",
   "language": "python",
   "name": "python3"
  },
  "language_info": {
   "codemirror_mode": {
    "name": "ipython",
    "version": 3
   },
   "file_extension": ".py",
   "mimetype": "text/x-python",
   "name": "python",
   "nbconvert_exporter": "python",
   "pygments_lexer": "ipython3",
   "version": "3.11.9"
  }
 },
 "nbformat": 4,
 "nbformat_minor": 5
}
